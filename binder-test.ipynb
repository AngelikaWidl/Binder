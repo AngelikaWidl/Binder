{
 "cells": [
  {
   "cell_type": "code",
   "execution_count": 1,
   "metadata": {},
   "outputs": [],
   "source": [
    "import sys\n",
    "sys.path.append('./Python/')\n",
    "\n",
    "import MatrixElementbbWW"
   ]
  },
  {
   "cell_type": "code",
   "execution_count": 2,
   "metadata": {},
   "outputs": [
    {
     "name": "stdout",
     "output_type": "stream",
     "text": [
      "\n",
      "\n",
      " INPUT\n",
      "\n",
      "    pa =  [250.0, 0.0, 0.0, 250.0]\n",
      "    pb =  [250.0, 0.0, 0.0, -250.0]\n",
      "    p1 =  [37.3187611814334, -14.68426080083153, -33.26675246773233, 8.3896126907413]\n",
      "    p2 =  [77.3822049733058, -7.601837186355866, -72.83979503528143, 24.9916381444082]\n",
      "    p3 =  [212.302258058168, -120.8666054041759, 131.7502214736349, -81.5144648226089]\n",
      "    p4 =  [172.996775787093, 143.1527033913634, -25.64367397062112, 48.1332139874593]\n",
      "\n",
      "\n",
      " OUTPUT\n",
      "\n",
      "  --------------------------------------------------------------------------------\n",
      "    diagram                helicity                      amplitude\n",
      "  --------------------------------------------------------------------------------\n",
      "       1             [1, -1, 1, -1, 1,  1]      1.147594e-04 + 3.816608e-05 i\n",
      "       1             [1, -1, 1, -1, 1,  0]      7.122456e-04 + 5.675043e-04 i\n",
      "       1             [1, -1, 1, -1, 1, -1]      -3.672488e-04 + 4.145726e-04 i\n",
      "\n",
      "       2             [1, -1, 1, -1, 1,  1]      -2.413771e-05 + -4.426252e-06 i\n",
      "       2             [1, -1, 1, -1, 1,  0]      -1.591513e-04 + -9.390650e-05 i\n",
      "       2             [1, -1, 1, -1, 1, -1]      6.207914e-05 + -9.367961e-05 i\n",
      "  --------------------------------------------------------------------------------\n",
      "\n",
      "\n"
     ]
    }
   ],
   "source": [
    "pa = [250.,0.,0.,250.]\n",
    "pb = [250.,0.,0.,-250.]\n",
    "p1 = [37.3187611814334,-14.68426080083153,-33.26675246773233, 8.38961269074130]\n",
    "p2 = [77.3822049733058,-7.601837186355866,-72.83979503528143, 24.9916381444082]\n",
    "p3 = [212.302258058168,-120.8666054041759, 131.7502214736349,-81.5144648226089]\n",
    "p4 = [172.996775787093, 143.1527033913634,-25.64367397062112, 48.1332139874593]\n",
    "\n",
    "amplitude = MatrixElementbbWW.M(pa, pb, p1, p2, p3, p4)\n",
    "\n",
    "print()\n",
    "print()\n",
    "print(' INPUT')\n",
    "print()\n",
    "print(\"    pa = \", pa)\n",
    "print(\"    pb = \", pb)\n",
    "print(\"    p1 = \", p1)\n",
    "print(\"    p2 = \", p2)\n",
    "print(\"    p3 = \", p3)\n",
    "print(\"    p4 = \", p4)\n",
    "print()\n",
    "print()\n",
    "print(' OUTPUT')\n",
    "print()\n",
    "print(\"  --------------------------------------------------------------------------------\")\n",
    "print(\"    diagram                helicity                      amplitude\"           )\n",
    "print(\"  --------------------------------------------------------------------------------\")\n",
    "print(\"       1             [1, -1, 1, -1, 1,  1]      {x.real:e} + {x.imag:e} i\".format(x=amplitude[0][0]))\n",
    "print(\"       1             [1, -1, 1, -1, 1,  0]      {x.real:e} + {x.imag:e} i\".format(x=amplitude[1][0]))\n",
    "print(\"       1             [1, -1, 1, -1, 1, -1]      {x.real:e} + {x.imag:e} i\".format(x=amplitude[2][0]))\n",
    "print()\n",
    "print(\"       2             [1, -1, 1, -1, 1,  1]      {x.real:e} + {x.imag:e} i\".format(x=amplitude[0][1]))\n",
    "print(\"       2             [1, -1, 1, -1, 1,  0]      {x.real:e} + {x.imag:e} i\".format(x=amplitude[1][1]))\n",
    "print(\"       2             [1, -1, 1, -1, 1, -1]      {x.real:e} + {x.imag:e} i\".format(x=amplitude[2][1]))\n",
    "print(\"  --------------------------------------------------------------------------------\")\n",
    "print()\n",
    "print()"
   ]
  },
  {
   "cell_type": "code",
   "execution_count": null,
   "metadata": {},
   "outputs": [],
   "source": []
  }
 ],
 "metadata": {
  "kernelspec": {
   "display_name": "Python 3",
   "language": "python",
   "name": "python3"
  },
  "language_info": {
   "codemirror_mode": {
    "name": "ipython",
    "version": 3
   },
   "file_extension": ".py",
   "mimetype": "text/x-python",
   "name": "python",
   "nbconvert_exporter": "python",
   "pygments_lexer": "ipython3",
   "version": "3.8.5"
  },
  "varInspector": {
   "cols": {
    "lenName": 16,
    "lenType": 16,
    "lenVar": 40
   },
   "kernels_config": {
    "python": {
     "delete_cmd_postfix": "",
     "delete_cmd_prefix": "del ",
     "library": "var_list.py",
     "varRefreshCmd": "print(var_dic_list())"
    },
    "r": {
     "delete_cmd_postfix": ") ",
     "delete_cmd_prefix": "rm(",
     "library": "var_list.r",
     "varRefreshCmd": "cat(var_dic_list()) "
    }
   },
   "types_to_exclude": [
    "module",
    "function",
    "builtin_function_or_method",
    "instance",
    "_Feature"
   ],
   "window_display": false
  }
 },
 "nbformat": 4,
 "nbformat_minor": 4
}
